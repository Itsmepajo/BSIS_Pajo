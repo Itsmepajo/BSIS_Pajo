{
  "nbformat": 4,
  "nbformat_minor": 0,
  "metadata": {
    "colab": {
      "provenance": [],
      "authorship_tag": "ABX9TyN7IKX0M5tt7zFoRuWp81Hz",
      "include_colab_link": true
    },
    "kernelspec": {
      "name": "python3",
      "display_name": "Python 3"
    },
    "language_info": {
      "name": "python"
    }
  },
  "cells": [
    {
      "cell_type": "markdown",
      "metadata": {
        "id": "view-in-github",
        "colab_type": "text"
      },
      "source": [
        "<a href=\"https://colab.research.google.com/github/Itsmepajo/BSIS_Pajo/blob/main/Copy_of_Untitled10.ipynb\" target=\"_parent\"><img src=\"https://colab.research.google.com/assets/colab-badge.svg\" alt=\"Open In Colab\"/></a>"
      ]
    },
    {
      "cell_type": "code",
      "execution_count": null,
      "metadata": {
        "id": "VVupPh5uJYCI"
      },
      "outputs": [],
      "source": [
        "import pandas as pd"
      ]
    },
    {
      "cell_type": "code",
      "source": [
        "url = \"https://raw.githubusercontent.com/Itsmepajo/BSIS_Pajo/refs/heads/main/student_dataset.csv\"\n"
      ],
      "metadata": {
        "id": "Obe-fUrgJkWG"
      },
      "execution_count": null,
      "outputs": []
    },
    {
      "cell_type": "code",
      "source": [
        "df = pd.read_csv(url)"
      ],
      "metadata": {
        "id": "zHqVK_0eJkg5"
      },
      "execution_count": null,
      "outputs": []
    },
    {
      "cell_type": "code",
      "source": [
        "print(\"First 10 rows:\")\n",
        "print(df.head(50), \"\\n\")\n"
      ],
      "metadata": {
        "colab": {
          "base_uri": "https://localhost:8080/"
        },
        "id": "cT7J7luwJ5fm",
        "outputId": "f5a22200-a053-4389-e05d-b67208377613"
      },
      "execution_count": null,
      "outputs": [
        {
          "output_type": "stream",
          "name": "stdout",
          "text": [
            "First 10 rows:\n",
            "    StudentID                Name   Age Grade                  Email\n",
            "0           1         Sam Vincent  18.0     A        sam1@school.edu\n",
            "1           2        Fiona Garcia  19.0     B      fiona2@school.edu\n",
            "2           3          Tina White   NaN     A       tina3@school.edu\n",
            "3           4            Jane Doe  18.0     A       jane4@school.edu\n",
            "4           5       Oscar Roberts   NaN     A      oscar5@school.edu\n",
            "5           6       Ulysses Young   NaN     D    ulysses6@school.edu\n",
            "6           7        Quinn Turner  20.0     A      quinn7@school.edu\n",
            "7           8         Diana Evans  21.0     C      diana8@school.edu\n",
            "8           9        Ethan Harris  20.0     A                    NaN\n",
            "9          10           Bob Brown  20.0     C       bob10@school.edu\n",
            "10         11            Jane Doe  21.0   NaN      jane11@school.edu\n",
            "11         12        Kevin Nelson  18.0   NaN     kevin12@school.edu\n",
            "12         13         Sam Vincent   NaN     C       sam13@school.edu\n",
            "13         14       Ulysses Young  18.0     A   ulysses14@school.edu\n",
            "14         15       William Adams  20.0     A   william15@school.edu\n",
            "15         16           Bob Brown  21.0     C       bob16@school.edu\n",
            "16         17      Julia Martinez  19.0     C     julia17@school.edu\n",
            "17         18          Tina White  20.0     A      tina18@school.edu\n",
            "18         19         Diana Evans   NaN     B     diana19@school.edu\n",
            "19         20        Kevin Nelson  20.0   NaN     kevin20@school.edu\n",
            "20         21           Ian Lewis  18.0     B       ian21@school.edu\n",
            "21         22           Ian Lewis  21.0     C                    NaN\n",
            "22         23        Quinn Turner  20.0     B     quinn23@school.edu\n",
            "23         24        Kevin Nelson  21.0     B     kevin24@school.edu\n",
            "24         25        Fiona Garcia   NaN   NaN     fiona25@school.edu\n",
            "25         26        Quinn Turner  21.0   NaN     quinn26@school.edu\n",
            "26         27        Fiona Garcia  19.0   NaN     fiona27@school.edu\n",
            "27         28       William Adams  18.0     A   william28@school.edu\n",
            "28         29         Diana Evans  21.0   NaN                    NaN\n",
            "29         30        Kevin Nelson   NaN     D     kevin30@school.edu\n",
            "30         31         Paula Scott  18.0     A     paula31@school.edu\n",
            "31         32         Paula Scott  20.0     C     paula32@school.edu\n",
            "32         33         Laura Owens  19.0     D                    NaN\n",
            "33         34  Victoria Zimmerman  20.0   NaN  victoria34@school.edu\n",
            "34         35       Oscar Roberts  18.0     C     oscar35@school.edu\n",
            "35         36       Oscar Roberts   NaN     B     oscar36@school.edu\n",
            "36         37       William Adams  19.0   NaN   william37@school.edu\n",
            "37         38       Oscar Roberts  18.0   NaN     oscar38@school.edu\n",
            "38         39          John Smith  18.0     C      john39@school.edu\n",
            "39         40         Hannah King  19.0     A    hannah40@school.edu\n",
            "40         41        Quinn Turner  18.0     A     quinn41@school.edu\n",
            "41         42       Alice Johnson   NaN     B     alice42@school.edu\n",
            "42         43          Nina Quinn   NaN     B      nina43@school.edu\n",
            "43         44    Rachel Underwood  21.0     B    rachel44@school.edu\n",
            "44         45       William Adams  19.0     C   william45@school.edu\n",
            "45         46          Tina White  20.0     D      tina46@school.edu\n",
            "46         47       Michael Perez  18.0     B   michael47@school.edu\n",
            "47         48           Ian Lewis  18.0   NaN       ian48@school.edu\n",
            "48         49        Quinn Turner  19.0     A                    NaN\n",
            "49         50         Sam Vincent  18.0     B                    NaN \n",
            "\n"
          ]
        }
      ]
    },
    {
      "cell_type": "code",
      "source": [
        "print(\"DataFrame info:\")\n",
        "print(df.info(), \"\\n\")"
      ],
      "metadata": {
        "colab": {
          "base_uri": "https://localhost:8080/"
        },
        "id": "GAuQCbr2J5r0",
        "outputId": "d3ac50e5-468c-4d9d-dd8a-3f21be58a4b0"
      },
      "execution_count": null,
      "outputs": [
        {
          "output_type": "stream",
          "name": "stdout",
          "text": [
            "DataFrame info:\n",
            "<class 'pandas.core.frame.DataFrame'>\n",
            "RangeIndex: 55 entries, 0 to 54\n",
            "Data columns (total 5 columns):\n",
            " #   Column     Non-Null Count  Dtype  \n",
            "---  ------     --------------  -----  \n",
            " 0   StudentID  55 non-null     int64  \n",
            " 1   Name       55 non-null     object \n",
            " 2   Age        45 non-null     float64\n",
            " 3   Grade      44 non-null     object \n",
            " 4   Email      49 non-null     object \n",
            "dtypes: float64(1), int64(1), object(3)\n",
            "memory usage: 2.3+ KB\n",
            "None \n",
            "\n"
          ]
        }
      ]
    },
    {
      "cell_type": "code",
      "source": [
        "print(\"Summary statistics (including nulls):\")\n",
        "print(df.describe(include='all'), \"\\n\")"
      ],
      "metadata": {
        "colab": {
          "base_uri": "https://localhost:8080/"
        },
        "id": "WkhbhnDFJ54E",
        "outputId": "19f675a9-8f5d-4b89-a458-50d025cd0e58"
      },
      "execution_count": null,
      "outputs": [
        {
          "output_type": "stream",
          "name": "stdout",
          "text": [
            "Summary statistics (including nulls):\n",
            "        StudentID        Name        Age Grade                Email\n",
            "count   55.000000          55  45.000000    44                   49\n",
            "unique        NaN          23        NaN     4                   44\n",
            "top           NaN  Tina White        NaN     A  hannah40@school.edu\n",
            "freq          NaN           5        NaN    18                    2\n",
            "mean    25.890909         NaN  19.266667   NaN                  NaN\n",
            "std     14.435903         NaN   1.136182   NaN                  NaN\n",
            "min      1.000000         NaN  18.000000   NaN                  NaN\n",
            "25%     14.000000         NaN  18.000000   NaN                  NaN\n",
            "50%     26.000000         NaN  19.000000   NaN                  NaN\n",
            "75%     38.500000         NaN  20.000000   NaN                  NaN\n",
            "max     50.000000         NaN  21.000000   NaN                  NaN \n",
            "\n"
          ]
        }
      ]
    },
    {
      "cell_type": "code",
      "source": [
        "print(\"Missing values per column:\")\n",
        "print(df.isnull().sum(), \"\\n\")"
      ],
      "metadata": {
        "colab": {
          "base_uri": "https://localhost:8080/"
        },
        "id": "aH8oRJkvJ6Dv",
        "outputId": "e4521b31-5872-4d84-bedb-bb524e70d3a7"
      },
      "execution_count": null,
      "outputs": [
        {
          "output_type": "stream",
          "name": "stdout",
          "text": [
            "Missing values per column:\n",
            "StudentID     0\n",
            "Name          0\n",
            "Age          10\n",
            "Grade        11\n",
            "Email         6\n",
            "dtype: int64 \n",
            "\n"
          ]
        }
      ]
    },
    {
      "cell_type": "code",
      "source": [
        "duplicate_rows = df[df.duplicated(keep=False)]\n",
        "print(f\"Found {len(duplicate_rows)} duplicated rows (all occurrences):\")\n",
        "print(duplicate_rows, \"\\n\")"
      ],
      "metadata": {
        "colab": {
          "base_uri": "https://localhost:8080/"
        },
        "id": "I3aLWI8XKOkW",
        "outputId": "de01e6fd-18c7-4b55-ba2e-74d5114bfedc"
      },
      "execution_count": null,
      "outputs": [
        {
          "output_type": "stream",
          "name": "stdout",
          "text": [
            "Found 10 duplicated rows (all occurrences):\n",
            "    StudentID           Name   Age Grade                 Email\n",
            "13         14  Ulysses Young  18.0     A  ulysses14@school.edu\n",
            "17         18     Tina White  20.0     A     tina18@school.edu\n",
            "30         31    Paula Scott  18.0     A    paula31@school.edu\n",
            "39         40    Hannah King  19.0     A   hannah40@school.edu\n",
            "45         46     Tina White  20.0     D     tina46@school.edu\n",
            "50         14  Ulysses Young  18.0     A  ulysses14@school.edu\n",
            "51         40    Hannah King  19.0     A   hannah40@school.edu\n",
            "52         31    Paula Scott  18.0     A    paula31@school.edu\n",
            "53         46     Tina White  20.0     D     tina46@school.edu\n",
            "54         18     Tina White  20.0     A     tina18@school.edu \n",
            "\n"
          ]
        }
      ]
    },
    {
      "cell_type": "code",
      "source": [
        "df = df.drop_duplicates()"
      ],
      "metadata": {
        "id": "sEZy7VqSLHbF"
      },
      "execution_count": null,
      "outputs": []
    },
    {
      "cell_type": "code",
      "source": [
        "df = df.reset_index(drop=True)"
      ],
      "metadata": {
        "id": "xkaqT8j4LMTS"
      },
      "execution_count": null,
      "outputs": []
    },
    {
      "cell_type": "code",
      "source": [
        "print(\"After cleaning:\")\n",
        "print(df.head(50))\n",
        "print(f\"\\nTotal rows after removing duplicates: {len(df)}\")"
      ],
      "metadata": {
        "colab": {
          "base_uri": "https://localhost:8080/"
        },
        "id": "Yb3WnhZBLPr0",
        "outputId": "7ddda024-1a39-48c7-8c9b-5951b26c94a6"
      },
      "execution_count": null,
      "outputs": [
        {
          "output_type": "stream",
          "name": "stdout",
          "text": [
            "After cleaning:\n",
            "    StudentID                Name   Age Grade                  Email\n",
            "0           1         Sam Vincent  18.0     A        sam1@school.edu\n",
            "1           2        Fiona Garcia  19.0     B      fiona2@school.edu\n",
            "2           3          Tina White   NaN     A       tina3@school.edu\n",
            "3           4            Jane Doe  18.0     A       jane4@school.edu\n",
            "4           5       Oscar Roberts   NaN     A      oscar5@school.edu\n",
            "5           6       Ulysses Young   NaN     D    ulysses6@school.edu\n",
            "6           7        Quinn Turner  20.0     A      quinn7@school.edu\n",
            "7           8         Diana Evans  21.0     C      diana8@school.edu\n",
            "8           9        Ethan Harris  20.0     A                    NaN\n",
            "9          10           Bob Brown  20.0     C       bob10@school.edu\n",
            "10         11            Jane Doe  21.0   NaN      jane11@school.edu\n",
            "11         12        Kevin Nelson  18.0   NaN     kevin12@school.edu\n",
            "12         13         Sam Vincent   NaN     C       sam13@school.edu\n",
            "13         14       Ulysses Young  18.0     A   ulysses14@school.edu\n",
            "14         15       William Adams  20.0     A   william15@school.edu\n",
            "15         16           Bob Brown  21.0     C       bob16@school.edu\n",
            "16         17      Julia Martinez  19.0     C     julia17@school.edu\n",
            "17         18          Tina White  20.0     A      tina18@school.edu\n",
            "18         19         Diana Evans   NaN     B     diana19@school.edu\n",
            "19         20        Kevin Nelson  20.0   NaN     kevin20@school.edu\n",
            "20         21           Ian Lewis  18.0     B       ian21@school.edu\n",
            "21         22           Ian Lewis  21.0     C                    NaN\n",
            "22         23        Quinn Turner  20.0     B     quinn23@school.edu\n",
            "23         24        Kevin Nelson  21.0     B     kevin24@school.edu\n",
            "24         25        Fiona Garcia   NaN   NaN     fiona25@school.edu\n",
            "25         26        Quinn Turner  21.0   NaN     quinn26@school.edu\n",
            "26         27        Fiona Garcia  19.0   NaN     fiona27@school.edu\n",
            "27         28       William Adams  18.0     A   william28@school.edu\n",
            "28         29         Diana Evans  21.0   NaN                    NaN\n",
            "29         30        Kevin Nelson   NaN     D     kevin30@school.edu\n",
            "30         31         Paula Scott  18.0     A     paula31@school.edu\n",
            "31         32         Paula Scott  20.0     C     paula32@school.edu\n",
            "32         33         Laura Owens  19.0     D                    NaN\n",
            "33         34  Victoria Zimmerman  20.0   NaN  victoria34@school.edu\n",
            "34         35       Oscar Roberts  18.0     C     oscar35@school.edu\n",
            "35         36       Oscar Roberts   NaN     B     oscar36@school.edu\n",
            "36         37       William Adams  19.0   NaN   william37@school.edu\n",
            "37         38       Oscar Roberts  18.0   NaN     oscar38@school.edu\n",
            "38         39          John Smith  18.0     C      john39@school.edu\n",
            "39         40         Hannah King  19.0     A    hannah40@school.edu\n",
            "40         41        Quinn Turner  18.0     A     quinn41@school.edu\n",
            "41         42       Alice Johnson   NaN     B     alice42@school.edu\n",
            "42         43          Nina Quinn   NaN     B      nina43@school.edu\n",
            "43         44    Rachel Underwood  21.0     B    rachel44@school.edu\n",
            "44         45       William Adams  19.0     C   william45@school.edu\n",
            "45         46          Tina White  20.0     D      tina46@school.edu\n",
            "46         47       Michael Perez  18.0     B   michael47@school.edu\n",
            "47         48           Ian Lewis  18.0   NaN       ian48@school.edu\n",
            "48         49        Quinn Turner  19.0     A                    NaN\n",
            "49         50         Sam Vincent  18.0     B                    NaN\n",
            "\n",
            "Total rows after removing duplicates: 50\n"
          ]
        }
      ]
    },
    {
      "cell_type": "code",
      "source": [
        "df['Email'] = df['Email'].fillna(\"unknown@example.com\")\n"
      ],
      "metadata": {
        "id": "GkCTLnh5Lqck"
      },
      "execution_count": null,
      "outputs": []
    },
    {
      "cell_type": "code",
      "source": [
        "print(\"\\nFirst 10 rows after filling missing values:\")\n",
        "print(df.head(50))\n"
      ],
      "metadata": {
        "colab": {
          "base_uri": "https://localhost:8080/"
        },
        "id": "depVtZSNLymN",
        "outputId": "b9c9dce8-0c4b-4b2b-ef4e-d017921dcf0e"
      },
      "execution_count": null,
      "outputs": [
        {
          "output_type": "stream",
          "name": "stdout",
          "text": [
            "\n",
            "First 10 rows after filling missing values:\n",
            "    StudentID                Name   Age Grade                  Email\n",
            "0           1         Sam Vincent  18.0     A        sam1@school.edu\n",
            "1           2        Fiona Garcia  19.0     B      fiona2@school.edu\n",
            "2           3          Tina White   NaN     A       tina3@school.edu\n",
            "3           4            Jane Doe  18.0     A       jane4@school.edu\n",
            "4           5       Oscar Roberts   NaN     A      oscar5@school.edu\n",
            "5           6       Ulysses Young   NaN     D    ulysses6@school.edu\n",
            "6           7        Quinn Turner  20.0     A      quinn7@school.edu\n",
            "7           8         Diana Evans  21.0     C      diana8@school.edu\n",
            "8           9        Ethan Harris  20.0     A    unknown@example.com\n",
            "9          10           Bob Brown  20.0     C       bob10@school.edu\n",
            "10         11            Jane Doe  21.0   NaN      jane11@school.edu\n",
            "11         12        Kevin Nelson  18.0   NaN     kevin12@school.edu\n",
            "12         13         Sam Vincent   NaN     C       sam13@school.edu\n",
            "13         14       Ulysses Young  18.0     A   ulysses14@school.edu\n",
            "14         15       William Adams  20.0     A   william15@school.edu\n",
            "15         16           Bob Brown  21.0     C       bob16@school.edu\n",
            "16         17      Julia Martinez  19.0     C     julia17@school.edu\n",
            "17         18          Tina White  20.0     A      tina18@school.edu\n",
            "18         19         Diana Evans   NaN     B     diana19@school.edu\n",
            "19         20        Kevin Nelson  20.0   NaN     kevin20@school.edu\n",
            "20         21           Ian Lewis  18.0     B       ian21@school.edu\n",
            "21         22           Ian Lewis  21.0     C    unknown@example.com\n",
            "22         23        Quinn Turner  20.0     B     quinn23@school.edu\n",
            "23         24        Kevin Nelson  21.0     B     kevin24@school.edu\n",
            "24         25        Fiona Garcia   NaN   NaN     fiona25@school.edu\n",
            "25         26        Quinn Turner  21.0   NaN     quinn26@school.edu\n",
            "26         27        Fiona Garcia  19.0   NaN     fiona27@school.edu\n",
            "27         28       William Adams  18.0     A   william28@school.edu\n",
            "28         29         Diana Evans  21.0   NaN    unknown@example.com\n",
            "29         30        Kevin Nelson   NaN     D     kevin30@school.edu\n",
            "30         31         Paula Scott  18.0     A     paula31@school.edu\n",
            "31         32         Paula Scott  20.0     C     paula32@school.edu\n",
            "32         33         Laura Owens  19.0     D    unknown@example.com\n",
            "33         34  Victoria Zimmerman  20.0   NaN  victoria34@school.edu\n",
            "34         35       Oscar Roberts  18.0     C     oscar35@school.edu\n",
            "35         36       Oscar Roberts   NaN     B     oscar36@school.edu\n",
            "36         37       William Adams  19.0   NaN   william37@school.edu\n",
            "37         38       Oscar Roberts  18.0   NaN     oscar38@school.edu\n",
            "38         39          John Smith  18.0     C      john39@school.edu\n",
            "39         40         Hannah King  19.0     A    hannah40@school.edu\n",
            "40         41        Quinn Turner  18.0     A     quinn41@school.edu\n",
            "41         42       Alice Johnson   NaN     B     alice42@school.edu\n",
            "42         43          Nina Quinn   NaN     B      nina43@school.edu\n",
            "43         44    Rachel Underwood  21.0     B    rachel44@school.edu\n",
            "44         45       William Adams  19.0     C   william45@school.edu\n",
            "45         46          Tina White  20.0     D      tina46@school.edu\n",
            "46         47       Michael Perez  18.0     B   michael47@school.edu\n",
            "47         48           Ian Lewis  18.0   NaN       ian48@school.edu\n",
            "48         49        Quinn Turner  19.0     A    unknown@example.com\n",
            "49         50         Sam Vincent  18.0     B    unknown@example.com\n"
          ]
        }
      ]
    }
  ]
}